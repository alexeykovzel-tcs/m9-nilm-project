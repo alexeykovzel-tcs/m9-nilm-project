{
 "cells": [
  {
   "cell_type": "code",
   "execution_count": 1,
   "id": "initial_id",
   "metadata": {
    "ExecuteTime": {
     "end_time": "2023-10-26T14:55:05.523878479Z",
     "start_time": "2023-10-26T14:55:05.318407999Z"
    },
    "collapsed": true,
    "trusted": true
   },
   "outputs": [],
   "source": "from src.meter_data import load_train, load\nfrom src.energy_model import EnergyModel"
  },
  {
   "cell_type": "code",
   "execution_count": 2,
   "id": "890afd47ec14b94e",
   "metadata": {
    "ExecuteTime": {
     "end_time": "2023-10-26T14:55:22.531061601Z",
     "start_time": "2023-10-26T14:55:05.522319021Z"
    },
    "collapsed": false,
    "trusted": true
   },
   "outputs": [],
   "source": "train_data = load_train('h1')\ntest_data = load('Testing_07_09_1341817201.mat', 'h1')"
  },
  {
   "cell_type": "code",
   "execution_count": 3,
   "id": "b3d1cab1da915f69",
   "metadata": {
    "ExecuteTime": {
     "end_time": "2023-10-26T14:55:22.531573409Z",
     "start_time": "2023-10-26T14:55:22.521517111Z"
    },
    "collapsed": false,
    "trusted": true
   },
   "outputs": [],
   "source": "model = EnergyModel()\nmodel.train(train_data)"
  },
  {
   "cell_type": "code",
   "execution_count": 4,
   "id": "edb7116a82d0dc8b",
   "metadata": {
    "ExecuteTime": {
     "end_time": "2023-10-26T14:55:22.531876862Z",
     "start_time": "2023-10-26T14:55:22.524025081Z"
    },
    "collapsed": false,
    "trusted": true
   },
   "outputs": [],
   "source": "model.disaggregate_and_plot(test_data)"
  }
 ],
 "metadata": {
  "kernelspec": {
   "display_name": "Python",
   "language": "python",
   "name": "python3"
  },
  "language_info": {
   "codemirror_mode": {
    "name": "ipython",
    "version": 2
   },
   "file_extension": ".py",
   "mimetype": "text/x-python",
   "name": "python",
   "nbconvert_exporter": "python",
   "pygments_lexer": "ipython2",
   "version": "2.7.6"
  }
 },
 "nbformat": 4,
 "nbformat_minor": 5
}
