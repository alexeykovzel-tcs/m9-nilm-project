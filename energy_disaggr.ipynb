{
 "cells": [
  {
   "cell_type": "code",
   "execution_count": 1,
   "id": "initial_id",
   "metadata": {
    "collapsed": true,
    "trusted": true,
    "ExecuteTime": {
     "end_time": "2023-10-29T16:31:11.882521355Z",
     "start_time": "2023-10-29T16:31:11.115158474Z"
    }
   },
   "outputs": [],
   "source": [
    "from src.meter_data import load_train, load_test\n",
    "from src.energy_model import EnergyModel"
   ]
  },
  {
   "cell_type": "code",
   "execution_count": 2,
   "id": "b3d1cab1da915f69",
   "metadata": {
    "collapsed": false,
    "trusted": true,
    "ExecuteTime": {
     "end_time": "2023-10-29T16:31:14.904174714Z",
     "start_time": "2023-10-29T16:31:11.885302165Z"
    }
   },
   "outputs": [],
   "source": [
    "train_data = [load_train('h1', 0)]\n",
    "model = EnergyModel()\n",
    "model.add_data(train_data)"
   ]
  },
  {
   "cell_type": "code",
   "execution_count": null,
   "id": "edb7116a82d0dc8b",
   "metadata": {
    "collapsed": false,
    "trusted": true,
    "is_executing": true,
    "ExecuteTime": {
     "start_time": "2023-10-29T16:31:14.904953299Z"
    }
   },
   "outputs": [],
   "source": [
    "test_data = load_test('h1', 0)\n",
    "model.disaggregate_and_plot(test_data)"
   ]
  }
 ],
 "metadata": {
  "kernelspec": {
   "display_name": "Python",
   "language": "python",
   "name": "python3"
  },
  "language_info": {
   "codemirror_mode": {
    "name": "ipython",
    "version": 2
   },
   "file_extension": ".py",
   "mimetype": "text/x-python",
   "name": "python",
   "nbconvert_exporter": "python",
   "pygments_lexer": "ipython2",
   "version": "2.7.6"
  }
 },
 "nbformat": 4,
 "nbformat_minor": 5
}
