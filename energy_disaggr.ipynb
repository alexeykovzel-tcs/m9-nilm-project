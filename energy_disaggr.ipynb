{
 "cells": [
  {
   "cell_type": "code",
   "execution_count": 1,
   "id": "initial_id",
   "metadata": {
    "collapsed": true,
    "trusted": true,
    "ExecuteTime": {
     "end_time": "2023-10-27T19:18:50.007436544Z",
     "start_time": "2023-10-27T19:18:49.514395658Z"
    }
   },
   "outputs": [],
   "source": [
    "from src.meter_data import load_train, load_test\n",
    "from src.energy_model import EnergyModel"
   ]
  },
  {
   "cell_type": "code",
   "execution_count": 2,
   "id": "890afd47ec14b94e",
   "metadata": {
    "collapsed": false,
    "trusted": true,
    "ExecuteTime": {
     "end_time": "2023-10-27T19:18:55.136657872Z",
     "start_time": "2023-10-27T19:18:50.006649301Z"
    }
   },
   "outputs": [],
   "source": [
    "train_data = [load_train('h1', 0)]\n",
    "test_data = load_test('h1', 0)"
   ]
  },
  {
   "cell_type": "code",
   "execution_count": 3,
   "id": "b3d1cab1da915f69",
   "metadata": {
    "collapsed": false,
    "trusted": true,
    "ExecuteTime": {
     "end_time": "2023-10-27T19:18:55.277946318Z",
     "start_time": "2023-10-27T19:18:55.140194296Z"
    }
   },
   "outputs": [
    {
     "ename": "AttributeError",
     "evalue": "'list' object has no attribute 'idx'",
     "output_type": "error",
     "traceback": [
      "\u001B[0;31m---------------------------------------------------------------------------\u001B[0m",
      "\u001B[0;31mAttributeError\u001B[0m                            Traceback (most recent call last)",
      "Cell \u001B[0;32mIn[3], line 2\u001B[0m\n\u001B[1;32m      1\u001B[0m model \u001B[38;5;241m=\u001B[39m EnergyModel()\n\u001B[0;32m----> 2\u001B[0m \u001B[43mmodel\u001B[49m\u001B[38;5;241;43m.\u001B[39;49m\u001B[43mtrain\u001B[49m\u001B[43m(\u001B[49m\u001B[43mtrain_data\u001B[49m\u001B[43m)\u001B[49m\n",
      "File \u001B[0;32m~/Projects/ml-project/src/energy_model.py:14\u001B[0m, in \u001B[0;36mEnergyModel.train\u001B[0;34m(self, data_per_day)\u001B[0m\n\u001B[1;32m     12\u001B[0m \u001B[38;5;28;01mdef\u001B[39;00m \u001B[38;5;21mtrain\u001B[39m(\u001B[38;5;28mself\u001B[39m, data_per_day: [MeterData]):\n\u001B[1;32m     13\u001B[0m     appliances \u001B[38;5;241m=\u001B[39m [profile_appliances(data) \u001B[38;5;28;01mfor\u001B[39;00m data \u001B[38;5;129;01min\u001B[39;00m data_per_day] \u001B[38;5;241m+\u001B[39m \u001B[38;5;28mself\u001B[39m\u001B[38;5;241m.\u001B[39mappliances\n\u001B[0;32m---> 14\u001B[0m     appliances \u001B[38;5;241m=\u001B[39m [[x \u001B[38;5;28;01mfor\u001B[39;00m x \u001B[38;5;129;01min\u001B[39;00m appliances \u001B[38;5;28;01mif\u001B[39;00m x\u001B[38;5;241m.\u001B[39midx \u001B[38;5;241m==\u001B[39m idx] \u001B[38;5;28;01mfor\u001B[39;00m idx \u001B[38;5;129;01min\u001B[39;00m \u001B[43m{\u001B[49m\u001B[43mx\u001B[49m\u001B[38;5;241;43m.\u001B[39;49m\u001B[43midx\u001B[49m\u001B[43m \u001B[49m\u001B[38;5;28;43;01mfor\u001B[39;49;00m\u001B[43m \u001B[49m\u001B[43mx\u001B[49m\u001B[43m \u001B[49m\u001B[38;5;129;43;01min\u001B[39;49;00m\u001B[43m \u001B[49m\u001B[43mappliances\u001B[49m\u001B[43m}\u001B[49m]\n\u001B[1;32m     15\u001B[0m     \u001B[38;5;28mself\u001B[39m\u001B[38;5;241m.\u001B[39mappliances \u001B[38;5;241m=\u001B[39m [Appliance\u001B[38;5;241m.\u001B[39mmerge(x) \u001B[38;5;28;01mfor\u001B[39;00m x \u001B[38;5;129;01min\u001B[39;00m appliances]\n",
      "File \u001B[0;32m~/Projects/ml-project/src/energy_model.py:14\u001B[0m, in \u001B[0;36m<setcomp>\u001B[0;34m(.0)\u001B[0m\n\u001B[1;32m     12\u001B[0m \u001B[38;5;28;01mdef\u001B[39;00m \u001B[38;5;21mtrain\u001B[39m(\u001B[38;5;28mself\u001B[39m, data_per_day: [MeterData]):\n\u001B[1;32m     13\u001B[0m     appliances \u001B[38;5;241m=\u001B[39m [profile_appliances(data) \u001B[38;5;28;01mfor\u001B[39;00m data \u001B[38;5;129;01min\u001B[39;00m data_per_day] \u001B[38;5;241m+\u001B[39m \u001B[38;5;28mself\u001B[39m\u001B[38;5;241m.\u001B[39mappliances\n\u001B[0;32m---> 14\u001B[0m     appliances \u001B[38;5;241m=\u001B[39m [[x \u001B[38;5;28;01mfor\u001B[39;00m x \u001B[38;5;129;01min\u001B[39;00m appliances \u001B[38;5;28;01mif\u001B[39;00m x\u001B[38;5;241m.\u001B[39midx \u001B[38;5;241m==\u001B[39m idx] \u001B[38;5;28;01mfor\u001B[39;00m idx \u001B[38;5;129;01min\u001B[39;00m {\u001B[43mx\u001B[49m\u001B[38;5;241;43m.\u001B[39;49m\u001B[43midx\u001B[49m \u001B[38;5;28;01mfor\u001B[39;00m x \u001B[38;5;129;01min\u001B[39;00m appliances}]\n\u001B[1;32m     15\u001B[0m     \u001B[38;5;28mself\u001B[39m\u001B[38;5;241m.\u001B[39mappliances \u001B[38;5;241m=\u001B[39m [Appliance\u001B[38;5;241m.\u001B[39mmerge(x) \u001B[38;5;28;01mfor\u001B[39;00m x \u001B[38;5;129;01min\u001B[39;00m appliances]\n",
      "\u001B[0;31mAttributeError\u001B[0m: 'list' object has no attribute 'idx'"
     ]
    }
   ],
   "source": [
    "model = EnergyModel()\n",
    "model.train(train_data)"
   ]
  },
  {
   "cell_type": "code",
   "execution_count": null,
   "id": "edb7116a82d0dc8b",
   "metadata": {
    "collapsed": false,
    "trusted": true,
    "ExecuteTime": {
     "start_time": "2023-10-27T19:18:55.275356848Z"
    }
   },
   "outputs": [],
   "source": [
    "model.disaggregate_and_plot(test_data)"
   ]
  }
 ],
 "metadata": {
  "kernelspec": {
   "display_name": "Python",
   "language": "python",
   "name": "python3"
  },
  "language_info": {
   "codemirror_mode": {
    "name": "ipython",
    "version": 2
   },
   "file_extension": ".py",
   "mimetype": "text/x-python",
   "name": "python",
   "nbconvert_exporter": "python",
   "pygments_lexer": "ipython2",
   "version": "2.7.6"
  }
 },
 "nbformat": 4,
 "nbformat_minor": 5
}
